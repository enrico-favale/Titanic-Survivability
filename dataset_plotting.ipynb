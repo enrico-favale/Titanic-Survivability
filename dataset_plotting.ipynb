{
 "cells": [
  {
   "cell_type": "code",
   "execution_count": null,
   "id": "25fcf558",
   "metadata": {},
   "outputs": [],
   "source": [
    "%reload_ext autoreload\n",
    "%autoreload\n",
    "\n",
    "import models.PlottingData as PlottingData\n",
    "\n",
    "import importlib\n",
    "\n",
    "importlib.reload(PlottingData)  # Reload module\n",
    "\n",
    "from models.PlottingData import PlottingData"
   ]
  },
  {
   "cell_type": "code",
   "execution_count": null,
   "id": "1aa12dcb",
   "metadata": {},
   "outputs": [],
   "source": [
    "plotter = PlottingData(\"data/dataset.csv\")\n",
    "\n",
    "plotter.show_info()\n",
    "plotter.missing_values()\n",
    "plotter.preprocessing()\n",
    "plotter.plot_numerical_distributions()\n",
    "plotter.plot_categorical_counts()\n",
    "plotter.plot_correlation_matrix()\n",
    "plotter.survival_by_feature(\"Sex\")\n",
    "plotter.survival_by_feature(\"Age_Group\")\n",
    "plotter.survival_by_feature(\"Pclass\")\n",
    "plotter.survival_by_feature(\"Fare_Group\")"
   ]
  }
 ],
 "metadata": {
  "language_info": {
   "name": "python"
  }
 },
 "nbformat": 4,
 "nbformat_minor": 5
}
