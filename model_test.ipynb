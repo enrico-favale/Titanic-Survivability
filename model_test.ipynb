{
 "cells": [
  {
   "cell_type": "code",
   "execution_count": null,
   "id": "b1d04fce",
   "metadata": {},
   "outputs": [
    {
     "name": "stdout",
     "output_type": "stream",
     "text": [
      "\u001b[1m1/1\u001b[0m \u001b[32m━━━━━━━━━━━━━━━━━━━━\u001b[0m\u001b[37m\u001b[0m \u001b[1m0s\u001b[0m 102ms/step\n",
      "Probability: 0.20\n",
      "Prediction: 0\n"
     ]
    },
    {
     "name": "stderr",
     "output_type": "stream",
     "text": [
      "/home/enrico/miniconda3/envs/titanic-env/lib/python3.10/site-packages/sklearn/utils/validation.py:2739: UserWarning: X does not have valid feature names, but StandardScaler was fitted with feature names\n",
      "  warnings.warn(\n"
     ]
    }
   ],
   "source": [
    "import tensorflow as tf\n",
    "import joblib\n",
    "\n",
    "passenger = [\n",
    "    3,   # Pclass\n",
    "    1,   # Sex (già codificato)\n",
    "    22.0,  # Age\n",
    "    1,   # SibSp\n",
    "    0,   # Parch\n",
    "    7.25,  # Fare\n",
    "    2,   # Embarked (già codificato)\n",
    "    1,   # Title (già codificato)\n",
    "    0,   # Has_Cabin\n",
    "    2,   # Family_Size\n",
    "    0,   # Is_Alone\n",
    "    2,   # Age_Group\n",
    "    1    # Fare_Group\n",
    "]\n",
    "\n",
    "scaler = joblib.load(\"./saved_models/scaler.pkl\")\n",
    "loaded_model = tf.keras.models.load_model(\"./saved_models/model.keras\")\n",
    "\n",
    "scaled = scaler.transform([passenger])\n",
    "prob = loaded_model.predict(scaled)[0][0]\n",
    "\n",
    "print(f'Probability: {prob:.2f}\\nPrediction: {int(prob > 0.5)}')"
   ]
  }
 ],
 "metadata": {
  "kernelspec": {
   "display_name": "titanic-env",
   "language": "python",
   "name": "python3"
  },
  "language_info": {
   "codemirror_mode": {
    "name": "ipython",
    "version": 3
   },
   "file_extension": ".py",
   "mimetype": "text/x-python",
   "name": "python",
   "nbconvert_exporter": "python",
   "pygments_lexer": "ipython3",
   "version": "3.10.16"
  }
 },
 "nbformat": 4,
 "nbformat_minor": 5
}
