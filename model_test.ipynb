{
 "cells": [
  {
   "cell_type": "code",
   "execution_count": 28,
   "id": "b1d04fce",
   "metadata": {},
   "outputs": [
    {
     "name": "stdout",
     "output_type": "stream",
     "text": [
      "\u001b[1m1/1\u001b[0m \u001b[32m━━━━━━━━━━━━━━━━━━━━\u001b[0m\u001b[37m\u001b[0m \u001b[1m0s\u001b[0m 107ms/step\n",
      "Probability: 0.17\n",
      "Prediction: Not Survived\n"
     ]
    }
   ],
   "source": [
    "%reload_ext autoreload\n",
    "%autoreload\n",
    "\n",
    "import classes.Passenger as Passenger\n",
    "\n",
    "import importlib\n",
    "\n",
    "importlib.reload(Passenger)  # Reload module\n",
    "\n",
    "from classes.Passenger import Passenger\n",
    "\n",
    "passenger = Passenger(\n",
    "    Pclass=1,\n",
    "    Sex=\"male\",\n",
    "    Title=\"Mr\",\n",
    "    Age=30.0,\n",
    "    SibSp=0,\n",
    "    Parch=0,\n",
    "    Fare=7.25,\n",
    "    Embarked=\"S\",\n",
    ")\n",
    "\n",
    "passenger.predict()"
   ]
  }
 ],
 "metadata": {
  "kernelspec": {
   "display_name": "titanic-env",
   "language": "python",
   "name": "python3"
  },
  "language_info": {
   "codemirror_mode": {
    "name": "ipython",
    "version": 3
   },
   "file_extension": ".py",
   "mimetype": "text/x-python",
   "name": "python",
   "nbconvert_exporter": "python",
   "pygments_lexer": "ipython3",
   "version": "3.10.16"
  }
 },
 "nbformat": 4,
 "nbformat_minor": 5
}
