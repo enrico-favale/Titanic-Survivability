{
 "cells": [
  {
   "cell_type": "code",
   "execution_count": 3,
   "id": "b1d04fce",
   "metadata": {},
   "outputs": [
    {
     "name": "stdout",
     "output_type": "stream",
     "text": [
      "\u001b[1m1/1\u001b[0m \u001b[32m━━━━━━━━━━━━━━━━━━━━\u001b[0m\u001b[37m\u001b[0m \u001b[1m0s\u001b[0m 110ms/step\n",
      "Survivability probability: 0.20\n",
      "Prediction: Not Survived\n",
      "WARNING:tensorflow:5 out of the last 5 calls to <function TensorFlowTrainer.make_predict_function.<locals>.one_step_on_data_distributed at 0x76bd1914feb0> triggered tf.function retracing. Tracing is expensive and the excessive number of tracings could be due to (1) creating @tf.function repeatedly in a loop, (2) passing tensors with different shapes, (3) passing Python objects instead of tensors. For (1), please define your @tf.function outside of the loop. For (2), @tf.function has reduce_retracing=True option that can avoid unnecessary retracing. For (3), please refer to https://www.tensorflow.org/guide/function#controlling_retracing and https://www.tensorflow.org/api_docs/python/tf/function for  more details.\n",
      "\u001b[1m1/1\u001b[0m \u001b[32m━━━━━━━━━━━━━━━━━━━━\u001b[0m\u001b[37m\u001b[0m \u001b[1m0s\u001b[0m 109ms/step\n",
      "Survivability probability: 0.97\n",
      "Prediction: Survived\n"
     ]
    }
   ],
   "source": [
    "%reload_ext autoreload\n",
    "%autoreload\n",
    "\n",
    "import classes.Passenger as Passenger\n",
    "\n",
    "import importlib\n",
    "\n",
    "importlib.reload(Passenger)  # Reload module\n",
    "\n",
    "from classes.Passenger import Passenger\n",
    "\n",
    "passenger = Passenger(\n",
    "    Pclass=3,\n",
    "    Sex=\"male\",\n",
    "    Title=\"Mr\",\n",
    "    Age=30.0,\n",
    "    SibSp=0,\n",
    "    Parch=0,\n",
    "    Fare=7.25,\n",
    "    Embarked=\"S\",\n",
    ")\n",
    "\n",
    "passenger.predict()\n",
    "\n",
    "passenger = Passenger(\n",
    "    Pclass=1,\n",
    "    Sex=\"female\",\n",
    "    Title=\"Rare\",\n",
    "    Age=30.0,\n",
    "    SibSp=0,\n",
    "    Parch=0,\n",
    "    Fare=47.25,\n",
    "    Embarked=\"S\",\n",
    ")\n",
    "\n",
    "passenger.predict()"
   ]
  }
 ],
 "metadata": {
  "kernelspec": {
   "display_name": "titanic-env",
   "language": "python",
   "name": "python3"
  },
  "language_info": {
   "codemirror_mode": {
    "name": "ipython",
    "version": 3
   },
   "file_extension": ".py",
   "mimetype": "text/x-python",
   "name": "python",
   "nbconvert_exporter": "python",
   "pygments_lexer": "ipython3",
   "version": "3.10.16"
  }
 },
 "nbformat": 4,
 "nbformat_minor": 5
}
